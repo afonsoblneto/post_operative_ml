{
 "cells": [
  {
   "cell_type": "code",
   "execution_count": 1,
   "metadata": {
    "_cell_guid": "b1076dfc-b9ad-4769-8c92-a6c4dae69d19",
    "_uuid": "8f2839f25d086af736a60e9eeb907d3b93b6e0e5"
   },
   "outputs": [
    {
     "name": "stderr",
     "output_type": "stream",
     "text": [
      "D:\\app\\AppData\\Local\\Continuum\\anaconda3\\lib\\site-packages\\sklearn\\ensemble\\weight_boosting.py:29: DeprecationWarning: numpy.core.umath_tests is an internal NumPy module and should not be imported. It will be removed in a future NumPy release.\n",
      "  from numpy.core.umath_tests import inner1d\n"
     ]
    }
   ],
   "source": [
    "# This Python 3 environment comes with many helpful analytics libraries installed\n",
    "# It is defined by the kaggle/python docker image: https://github.com/kaggle/docker-python\n",
    "# For example, here's several helpful packages to load in \n",
    "\n",
    "import numpy as np # linear algebra\n",
    "import pandas as pd # data processing, CSV file I/O (e.g. pd.read_csv)\n",
    "import matplotlib.pyplot as plt\n",
    "\n",
    "from sklearn.preprocessing import LabelEncoder\n",
    "from sklearn.model_selection import KFold\n",
    "from sklearn.model_selection import cross_val_score\n",
    "from sklearn.model_selection import GridSearchCV\n",
    "from sklearn.ensemble import RandomForestClassifier\n",
    "from sklearn.ensemble import AdaBoostClassifier\n",
    "from sklearn.tree import DecisionTreeClassifier\n",
    "from sklearn.linear_model import LinearRegression\n",
    "from sklearn.linear_model import ElasticNet\n",
    "from sklearn.linear_model import Lasso\n",
    "from sklearn.linear_model import Ridge\n",
    "from sklearn.linear_model import SGDClassifier\n",
    "from sklearn.svm import SVC\n",
    "from sklearn.svm import LinearSVC\n",
    "from sklearn.neural_network import MLPClassifier\n",
    "from sklearn.neighbors import KNeighborsClassifier\n",
    "from sklearn.naive_bayes import GaussianNB\n",
    "from sklearn.linear_model import LogisticRegression\n",
    "\n",
    "from copy import deepcopy\n",
    "\n",
    "# Input data files are available in the \"../input/\" directory.\n",
    "# For example, running this (by clicking run or pressing Shift+Enter) will list the files in the input directory\n",
    "\n",
    "import os\n",
    "#print(os.listdir(\"\"))\n",
    "\n",
    "import warnings\n",
    "warnings.filterwarnings(\"ignore\")\n",
    "\n",
    "# Any results you write to the current directory are saved as output."
   ]
  },
  {
   "cell_type": "markdown",
   "metadata": {
    "_kg_hide-input": false,
    "_kg_hide-output": false,
    "_uuid": "ee4b78bf48a3f51dbf840d5703453f011632ba42"
   },
   "source": [
    "Lendo os dados de treino"
   ]
  },
  {
   "cell_type": "code",
   "execution_count": 2,
   "metadata": {
    "_cell_guid": "79c7e3d0-c299-4dcb-8224-4455121ee9b0",
    "_uuid": "d629ff2d2480ee46fbb7e2d37f6b5fab8052498a"
   },
   "outputs": [],
   "source": [
    "df = pd.read_csv(\"PO_Generated_Data.data\")"
   ]
  },
  {
   "cell_type": "code",
   "execution_count": 3,
   "metadata": {},
   "outputs": [
    {
     "name": "stdout",
     "output_type": "stream",
     "text": [
      "Total rows:  1890\n"
     ]
    }
   ],
   "source": [
    "print(\"Total rows: \", len(df['L-CORE_C']))"
   ]
  },
  {
   "cell_type": "code",
   "execution_count": 4,
   "metadata": {
    "_uuid": "f9071082a8ce97ab38916476f378fb8aa8b5af46"
   },
   "outputs": [
    {
     "data": {
      "text/html": [
       "<div>\n",
       "<style scoped>\n",
       "    .dataframe tbody tr th:only-of-type {\n",
       "        vertical-align: middle;\n",
       "    }\n",
       "\n",
       "    .dataframe tbody tr th {\n",
       "        vertical-align: top;\n",
       "    }\n",
       "\n",
       "    .dataframe thead th {\n",
       "        text-align: right;\n",
       "    }\n",
       "</style>\n",
       "<table border=\"1\" class=\"dataframe\">\n",
       "  <thead>\n",
       "    <tr style=\"text-align: right;\">\n",
       "      <th></th>\n",
       "      <th>L-CORE_C</th>\n",
       "      <th>L-SURF_C</th>\n",
       "      <th>L-O2_C</th>\n",
       "      <th>L-BP_C</th>\n",
       "      <th>SURF-STBL_C</th>\n",
       "      <th>CORE-STBL_C</th>\n",
       "      <th>BP-STBL_C</th>\n",
       "      <th>decision_C</th>\n",
       "    </tr>\n",
       "  </thead>\n",
       "  <tbody>\n",
       "    <tr>\n",
       "      <th>0</th>\n",
       "      <td>1</td>\n",
       "      <td>0</td>\n",
       "      <td>0</td>\n",
       "      <td>1</td>\n",
       "      <td>1</td>\n",
       "      <td>1</td>\n",
       "      <td>1</td>\n",
       "      <td>0</td>\n",
       "    </tr>\n",
       "    <tr>\n",
       "      <th>1</th>\n",
       "      <td>1</td>\n",
       "      <td>2</td>\n",
       "      <td>0</td>\n",
       "      <td>2</td>\n",
       "      <td>1</td>\n",
       "      <td>1</td>\n",
       "      <td>1</td>\n",
       "      <td>2</td>\n",
       "    </tr>\n",
       "    <tr>\n",
       "      <th>2</th>\n",
       "      <td>2</td>\n",
       "      <td>0</td>\n",
       "      <td>0</td>\n",
       "      <td>2</td>\n",
       "      <td>1</td>\n",
       "      <td>1</td>\n",
       "      <td>0</td>\n",
       "      <td>0</td>\n",
       "    </tr>\n",
       "    <tr>\n",
       "      <th>3</th>\n",
       "      <td>1</td>\n",
       "      <td>0</td>\n",
       "      <td>1</td>\n",
       "      <td>2</td>\n",
       "      <td>1</td>\n",
       "      <td>2</td>\n",
       "      <td>0</td>\n",
       "      <td>0</td>\n",
       "    </tr>\n",
       "    <tr>\n",
       "      <th>4</th>\n",
       "      <td>1</td>\n",
       "      <td>1</td>\n",
       "      <td>0</td>\n",
       "      <td>2</td>\n",
       "      <td>1</td>\n",
       "      <td>1</td>\n",
       "      <td>1</td>\n",
       "      <td>0</td>\n",
       "    </tr>\n",
       "  </tbody>\n",
       "</table>\n",
       "</div>"
      ],
      "text/plain": [
       "   L-CORE_C  L-SURF_C  L-O2_C  L-BP_C  SURF-STBL_C  CORE-STBL_C  BP-STBL_C  \\\n",
       "0         1         0       0       1            1            1          1   \n",
       "1         1         2       0       2            1            1          1   \n",
       "2         2         0       0       2            1            1          0   \n",
       "3         1         0       1       2            1            2          0   \n",
       "4         1         1       0       2            1            1          1   \n",
       "\n",
       "   decision_C  \n",
       "0           0  \n",
       "1           2  \n",
       "2           0  \n",
       "3           0  \n",
       "4           0  "
      ]
     },
     "execution_count": 4,
     "metadata": {},
     "output_type": "execute_result"
    }
   ],
   "source": [
    "del df['key_PO']\n",
    "df.head(5)"
   ]
  },
  {
   "cell_type": "code",
   "execution_count": 5,
   "metadata": {},
   "outputs": [],
   "source": [
    "#df.describe()"
   ]
  },
  {
   "cell_type": "code",
   "execution_count": 6,
   "metadata": {},
   "outputs": [
    {
     "data": {
      "text/plain": [
       "Index(['L-CORE_C', 'L-SURF_C', 'L-O2_C', 'L-BP_C', 'SURF-STBL_C',\n",
       "       'CORE-STBL_C', 'BP-STBL_C', 'decision_C'],\n",
       "      dtype='object')"
      ]
     },
     "execution_count": 6,
     "metadata": {},
     "output_type": "execute_result"
    }
   ],
   "source": [
    "df.columns"
   ]
  },
  {
   "cell_type": "markdown",
   "metadata": {
    "_uuid": "8f040b96de10779ddde41c54d144a749d27088b1"
   },
   "source": [
    "Método para selecionar apenas as variáveis que serão utilizadas para a construção do modelo"
   ]
  },
  {
   "cell_type": "code",
   "execution_count": 7,
   "metadata": {
    "_uuid": "d7487bb5cdc39f618b7ccad036ca864a68b548c4"
   },
   "outputs": [],
   "source": [
    "def selecionar_variaveis_df(dados, se_dados_teste=False):\n",
    "    if se_dados_teste == False:\n",
    "        decision = dados['decision_C']\n",
    "        return decision, dados[['L-CORE_C', 'L-SURF_C', 'L-O2_C', 'L-BP_C', 'SURF-STBL_C', 'CORE-STBL_C', 'BP-STBL_C']]\n",
    "    \n",
    "    return dados[['L-CORE_C', 'L-SURF_C', 'L-O2_C', 'L-BP_C', 'SURF-STBL_C', 'CORE-STBL_C', 'BP-STBL_C']]"
   ]
  },
  {
   "cell_type": "code",
   "execution_count": 8,
   "metadata": {
    "_uuid": "2e78155cf1aa1db1d2702a0c2a4520b8b3f64a7c"
   },
   "outputs": [],
   "source": [
    "decision, dados = selecionar_variaveis_df(df)"
   ]
  },
  {
   "cell_type": "code",
   "execution_count": 10,
   "metadata": {
    "_uuid": "34cf74e4d383b57cf4378241fecb74981d0b3547"
   },
   "outputs": [],
   "source": [
    "modelos = [\n",
    "    ('Decision Tree', DecisionTreeClassifier(max_depth=5)),\n",
    "    ('Random Forest', RandomForestClassifier(max_depth=5, n_estimators=250, max_features=1)),\n",
    "    ('AdaBoost', AdaBoostClassifier()),\n",
    "    ('KNN', KNeighborsClassifier(n_neighbors=3)),\n",
    "    ('MLP - neural network', MLPClassifier()),\n",
    "    ('Naive Bayes', GaussianNB()),\n",
    "    ('Logistic Regression', LogisticRegression()),\n",
    "    ('Support Vector Machines', SVC(gamma=2, C=1)),\n",
    "    ('Linear SVC', LinearSVC()),\n",
    "    ('Stochastic Gradient Descent (SGD)', SGDClassifier())    \n",
    "]"
   ]
  },
  {
   "cell_type": "code",
   "execution_count": 21,
   "metadata": {
    "_uuid": "7c21f8a1527197da6d7f013d37ac4a443055e4a7"
   },
   "outputs": [
    {
     "name": "stdout",
     "output_type": "stream",
     "text": [
      "######## Estimators Comparision ##########\n",
      "\n",
      "\n",
      "Total rows:  1890\n",
      "Number of itens per decision decision_C\n",
      "0    1344\n",
      "1      42\n",
      "2     504\n",
      "dtype: int64\n",
      "0:A (patient sent to general hospital floor)\n",
      "1:I (patient sent to Intensive Care Unit)\n",
      "2:S (patient prepared to go home)\n",
      "\n",
      "\n",
      "1 - Decision Tree: Accuracy= 76.8 %: std= 0.9\n",
      "2 - Random Forest: Accuracy= 79.1 %: std= 0.8\n",
      "3 - AdaBoost: Accuracy= 55.6 %: std= 0.4\n",
      "4 - KNN: Accuracy= 87.5 %: std= 0.9\n"
     ]
    },
    {
     "name": "stderr",
     "output_type": "stream",
     "text": [
      "D:\\app\\AppData\\Local\\Continuum\\anaconda3\\lib\\site-packages\\sklearn\\neural_network\\multilayer_perceptron.py:564: ConvergenceWarning: Stochastic Optimizer: Maximum iterations (200) reached and the optimization hasn't converged yet.\n",
      "  % self.max_iter, ConvergenceWarning)\n",
      "D:\\app\\AppData\\Local\\Continuum\\anaconda3\\lib\\site-packages\\sklearn\\neural_network\\multilayer_perceptron.py:564: ConvergenceWarning: Stochastic Optimizer: Maximum iterations (200) reached and the optimization hasn't converged yet.\n",
      "  % self.max_iter, ConvergenceWarning)\n",
      "D:\\app\\AppData\\Local\\Continuum\\anaconda3\\lib\\site-packages\\sklearn\\neural_network\\multilayer_perceptron.py:564: ConvergenceWarning: Stochastic Optimizer: Maximum iterations (200) reached and the optimization hasn't converged yet.\n",
      "  % self.max_iter, ConvergenceWarning)\n",
      "D:\\app\\AppData\\Local\\Continuum\\anaconda3\\lib\\site-packages\\sklearn\\neural_network\\multilayer_perceptron.py:564: ConvergenceWarning: Stochastic Optimizer: Maximum iterations (200) reached and the optimization hasn't converged yet.\n",
      "  % self.max_iter, ConvergenceWarning)\n"
     ]
    },
    {
     "name": "stdout",
     "output_type": "stream",
     "text": [
      "5 - MLP - neural network: Accuracy= 88.9 %: std= 0.3\n",
      "6 - Naive Bayes: Accuracy= 38.9 %: std= 0.6\n",
      "7 - Logistic Regression: Accuracy= 70.2 %: std= 1.0\n",
      "8 - Support Vector Machines: Accuracy= 88.7 %: std= 0.5\n",
      "9 - Linear SVC: Accuracy= 70.2 %: std= 1.0\n",
      "10 - Stochastic Gradient Descent (SGD): Accuracy= 60.5 %: std= 13.0\n"
     ]
    }
   ],
   "source": [
    "resultados = []\n",
    "nomes = []\n",
    "acuracia = []\n",
    "dp = []\n",
    "\n",
    "print(\"######## Estimators Comparision ##########\")\n",
    "print('\\n')\n",
    "print(\"Total rows: \", len(df['L-CORE_C']))\n",
    "print(\"Number of itens per decision\", df.groupby('decision_C').size())\n",
    "print(\"0:A (patient sent to general hospital floor)\")\n",
    "print(\"1:I (patient sent to Intensive Care Unit)\")\n",
    "print(\"2:S (patient prepared to go home)\")\n",
    "print('\\n')\n",
    "i=1\n",
    "for nome, modelo in modelos:\n",
    "    kfold = KFold(n_splits=5, random_state=100)\n",
    "    #cv = cross_val_score(estimator=modelo,X=dados,y=decision,cv=kfold,scoring='r2')\n",
    "    cv = cross_val_score(estimator=modelo,X=dados,y=decision,cv=kfold,scoring='accuracy')\n",
    "    resultados.append(cv)\n",
    "    nomes.append(nome)\n",
    "    dp.append(dp)\n",
    "    print(str(i)+' - '+nome+': Accuracy= ' + str(round(cv.mean()*100, 1)) + ' %'+': std= ' + str(round(cv.std()*100,1)))\n",
    "    #print(str(i), \"Accuracy: %0.3f (+/- %0.2f)\" % (cv.mean(), cv.std() * 2))\n",
    "    acuracia.append([nome,round(cv.mean()*100,1), round(cv.std()*100,1)])\n",
    "    i += 1    "
   ]
  },
  {
   "cell_type": "code",
   "execution_count": null,
   "metadata": {},
   "outputs": [],
   "source": []
  },
  {
   "cell_type": "code",
   "execution_count": 22,
   "metadata": {},
   "outputs": [
    {
     "data": {
      "text/html": [
       "<div>\n",
       "<style scoped>\n",
       "    .dataframe tbody tr th:only-of-type {\n",
       "        vertical-align: middle;\n",
       "    }\n",
       "\n",
       "    .dataframe tbody tr th {\n",
       "        vertical-align: top;\n",
       "    }\n",
       "\n",
       "    .dataframe thead th {\n",
       "        text-align: right;\n",
       "    }\n",
       "</style>\n",
       "<table border=\"1\" class=\"dataframe\">\n",
       "  <thead>\n",
       "    <tr style=\"text-align: right;\">\n",
       "      <th></th>\n",
       "      <th>Estimator</th>\n",
       "      <th>Accuracy</th>\n",
       "      <th>Std_Dev</th>\n",
       "    </tr>\n",
       "  </thead>\n",
       "  <tbody>\n",
       "    <tr>\n",
       "      <th>4</th>\n",
       "      <td>MLP - neural network</td>\n",
       "      <td>88.9</td>\n",
       "      <td>0.3</td>\n",
       "    </tr>\n",
       "    <tr>\n",
       "      <th>7</th>\n",
       "      <td>Support Vector Machines</td>\n",
       "      <td>88.7</td>\n",
       "      <td>0.5</td>\n",
       "    </tr>\n",
       "    <tr>\n",
       "      <th>3</th>\n",
       "      <td>KNN</td>\n",
       "      <td>87.5</td>\n",
       "      <td>0.9</td>\n",
       "    </tr>\n",
       "    <tr>\n",
       "      <th>1</th>\n",
       "      <td>Random Forest</td>\n",
       "      <td>79.1</td>\n",
       "      <td>0.8</td>\n",
       "    </tr>\n",
       "    <tr>\n",
       "      <th>0</th>\n",
       "      <td>Decision Tree</td>\n",
       "      <td>76.8</td>\n",
       "      <td>0.9</td>\n",
       "    </tr>\n",
       "    <tr>\n",
       "      <th>6</th>\n",
       "      <td>Logistic Regression</td>\n",
       "      <td>70.2</td>\n",
       "      <td>1.0</td>\n",
       "    </tr>\n",
       "    <tr>\n",
       "      <th>8</th>\n",
       "      <td>Linear SVC</td>\n",
       "      <td>70.2</td>\n",
       "      <td>1.0</td>\n",
       "    </tr>\n",
       "    <tr>\n",
       "      <th>9</th>\n",
       "      <td>Stochastic Gradient Descent (SGD)</td>\n",
       "      <td>60.5</td>\n",
       "      <td>13.0</td>\n",
       "    </tr>\n",
       "    <tr>\n",
       "      <th>2</th>\n",
       "      <td>AdaBoost</td>\n",
       "      <td>55.6</td>\n",
       "      <td>0.4</td>\n",
       "    </tr>\n",
       "    <tr>\n",
       "      <th>5</th>\n",
       "      <td>Naive Bayes</td>\n",
       "      <td>38.9</td>\n",
       "      <td>0.6</td>\n",
       "    </tr>\n",
       "  </tbody>\n",
       "</table>\n",
       "</div>"
      ],
      "text/plain": [
       "                           Estimator  Accuracy  Std_Dev\n",
       "4               MLP - neural network      88.9      0.3\n",
       "7            Support Vector Machines      88.7      0.5\n",
       "3                                KNN      87.5      0.9\n",
       "1                      Random Forest      79.1      0.8\n",
       "0                      Decision Tree      76.8      0.9\n",
       "6                Logistic Regression      70.2      1.0\n",
       "8                         Linear SVC      70.2      1.0\n",
       "9  Stochastic Gradient Descent (SGD)      60.5     13.0\n",
       "2                           AdaBoost      55.6      0.4\n",
       "5                        Naive Bayes      38.9      0.6"
      ]
     },
     "execution_count": 22,
     "metadata": {},
     "output_type": "execute_result"
    }
   ],
   "source": [
    "import seaborn as sns\n",
    "sns.set(style=\"whitegrid\")\n",
    "df2 = pd.DataFrame(data=acuracia, columns='Estimator Accuracy Std_Dev'.split())\n",
    "df2 = df2.sort_values(['Accuracy'], ascending=[False])\n",
    "df2\n"
   ]
  },
  {
   "cell_type": "code",
   "execution_count": 12,
   "metadata": {},
   "outputs": [
    {
     "data": {
      "text/plain": [
       "[Text(0,0,'MLP - neural network'),\n",
       " Text(0,0,'Support Vector Machines'),\n",
       " Text(0,0,'KNN'),\n",
       " Text(0,0,'Random Forest'),\n",
       " Text(0,0,'Decision Tree'),\n",
       " Text(0,0,'Logistic Regression'),\n",
       " Text(0,0,'Linear SVC'),\n",
       " Text(0,0,'Stochastic Gradient Descent (SGD)'),\n",
       " Text(0,0,'AdaBoost'),\n",
       " Text(0,0,'Naive Bayes')]"
      ]
     },
     "execution_count": 12,
     "metadata": {},
     "output_type": "execute_result"
    },
    {
     "data": {
      "image/png": "[encoded data removed]",
      "text/plain": [
       "<Figure size 432x288 with 1 Axes>"
      ]
     },
     "metadata": {},
     "output_type": "display_data"
    }
   ],
   "source": [
    "ax = sns.barplot(x=\"Estimator\", y=\"Accuracy\", data=df2)\n",
    "ax.set_xticklabels(df2['Estimator'], rotation=90)"
   ]
  },
  {
   "cell_type": "code",
   "execution_count": null,
   "metadata": {},
   "outputs": [],
   "source": []
  }
 ],
 "metadata": {
  "kernelspec": {
   "display_name": "Python 3",
   "language": "python",
   "name": "python3"
  },
  "language_info": {
   "codemirror_mode": {
    "name": "ipython",
    "version": 3
   },
   "file_extension": ".py",
   "mimetype": "text/x-python",
   "name": "python",
   "nbconvert_exporter": "python",
   "pygments_lexer": "ipython3",
   "version": "3.7.0"
  }
 },
 "nbformat": 4,
 "nbformat_minor": 1
}
